{
 "cells": [
  {
   "cell_type": "code",
   "execution_count": 3,
   "metadata": {},
   "outputs": [],
   "source": [
    "from numpy import radians, sin\n",
    "from numpy import linspace\n",
    "import matplotlib.pyplot as plt\n",
    "import pandas as pd"
   ]
  },
  {
   "cell_type": "code",
   "execution_count": 9,
   "metadata": {},
   "outputs": [],
   "source": [
    "ballistics_points=[(x,(100*2)*sin(2*radians(x))/9.81) for x in linspace(0,90,200)]"
   ]
  },
  {
   "cell_type": "code",
   "execution_count": 10,
   "metadata": {},
   "outputs": [
    {
     "data": {
      "image/png": "[encoded data removed]",
      "text/plain": [
       "<matplotlib.figure.Figure at 0x7f359f4c59b0>"
      ]
     },
     "metadata": {
      "needs_background": "light"
     },
     "output_type": "display_data"
    }
   ],
   "source": [
    "plt.plot(ballistics_points)\n",
    "plt.show()"
   ]
  },
  {
   "cell_type": "code",
   "execution_count": 11,
   "metadata": {},
   "outputs": [],
   "source": [
    "df=pd.DataFrame(ballistics_points)"
   ]
  },
  {
   "cell_type": "code",
   "execution_count": 15,
   "metadata": {},
   "outputs": [
    {
     "data": {
      "text/html": [
       "<div>\n",
       "<style>\n",
       "    .dataframe thead tr:only-child th {\n",
       "        text-align: right;\n",
       "    }\n",
       "\n",
       "    .dataframe thead th {\n",
       "        text-align: left;\n",
       "    }\n",
       "\n",
       "    .dataframe tbody tr th {\n",
       "        vertical-align: top;\n",
       "    }\n",
       "</style>\n",
       "<table border=\"1\" class=\"dataframe\">\n",
       "  <thead>\n",
       "    <tr style=\"text-align: right;\">\n",
       "      <th></th>\n",
       "      <th>angle</th>\n",
       "      <th>range</th>\n",
       "    </tr>\n",
       "  </thead>\n",
       "  <tbody>\n",
       "    <tr>\n",
       "      <th>0</th>\n",
       "      <td>0.000000</td>\n",
       "      <td>0.000000e+00</td>\n",
       "    </tr>\n",
       "    <tr>\n",
       "      <th>1</th>\n",
       "      <td>0.452261</td>\n",
       "      <td>3.218398e-01</td>\n",
       "    </tr>\n",
       "    <tr>\n",
       "      <th>2</th>\n",
       "      <td>0.904523</td>\n",
       "      <td>6.435994e-01</td>\n",
       "    </tr>\n",
       "    <tr>\n",
       "      <th>3</th>\n",
       "      <td>1.356784</td>\n",
       "      <td>9.651986e-01</td>\n",
       "    </tr>\n",
       "    <tr>\n",
       "      <th>4</th>\n",
       "      <td>1.809045</td>\n",
       "      <td>1.286557e+00</td>\n",
       "    </tr>\n",
       "    <tr>\n",
       "      <th>5</th>\n",
       "      <td>2.261307</td>\n",
       "      <td>1.607595e+00</td>\n",
       "    </tr>\n",
       "    <tr>\n",
       "      <th>6</th>\n",
       "      <td>2.713568</td>\n",
       "      <td>1.928233e+00</td>\n",
       "    </tr>\n",
       "    <tr>\n",
       "      <th>7</th>\n",
       "      <td>3.165829</td>\n",
       "      <td>2.248389e+00</td>\n",
       "    </tr>\n",
       "    <tr>\n",
       "      <th>8</th>\n",
       "      <td>3.618090</td>\n",
       "      <td>2.567986e+00</td>\n",
       "    </tr>\n",
       "    <tr>\n",
       "      <th>9</th>\n",
       "      <td>4.070352</td>\n",
       "      <td>2.886942e+00</td>\n",
       "    </tr>\n",
       "    <tr>\n",
       "      <th>10</th>\n",
       "      <td>4.522613</td>\n",
       "      <td>3.205179e+00</td>\n",
       "    </tr>\n",
       "    <tr>\n",
       "      <th>11</th>\n",
       "      <td>4.974874</td>\n",
       "      <td>3.522617e+00</td>\n",
       "    </tr>\n",
       "    <tr>\n",
       "      <th>12</th>\n",
       "      <td>5.427136</td>\n",
       "      <td>3.839178e+00</td>\n",
       "    </tr>\n",
       "    <tr>\n",
       "      <th>13</th>\n",
       "      <td>5.879397</td>\n",
       "      <td>4.154781e+00</td>\n",
       "    </tr>\n",
       "    <tr>\n",
       "      <th>14</th>\n",
       "      <td>6.331658</td>\n",
       "      <td>4.469349e+00</td>\n",
       "    </tr>\n",
       "    <tr>\n",
       "      <th>15</th>\n",
       "      <td>6.783920</td>\n",
       "      <td>4.782803e+00</td>\n",
       "    </tr>\n",
       "    <tr>\n",
       "      <th>16</th>\n",
       "      <td>7.236181</td>\n",
       "      <td>5.095065e+00</td>\n",
       "    </tr>\n",
       "    <tr>\n",
       "      <th>17</th>\n",
       "      <td>7.688442</td>\n",
       "      <td>5.406058e+00</td>\n",
       "    </tr>\n",
       "    <tr>\n",
       "      <th>18</th>\n",
       "      <td>8.140704</td>\n",
       "      <td>5.715703e+00</td>\n",
       "    </tr>\n",
       "    <tr>\n",
       "      <th>19</th>\n",
       "      <td>8.592965</td>\n",
       "      <td>6.023924e+00</td>\n",
       "    </tr>\n",
       "    <tr>\n",
       "      <th>20</th>\n",
       "      <td>9.045226</td>\n",
       "      <td>6.330643e+00</td>\n",
       "    </tr>\n",
       "    <tr>\n",
       "      <th>21</th>\n",
       "      <td>9.497487</td>\n",
       "      <td>6.635784e+00</td>\n",
       "    </tr>\n",
       "    <tr>\n",
       "      <th>22</th>\n",
       "      <td>9.949749</td>\n",
       "      <td>6.939272e+00</td>\n",
       "    </tr>\n",
       "    <tr>\n",
       "      <th>23</th>\n",
       "      <td>10.402010</td>\n",
       "      <td>7.241031e+00</td>\n",
       "    </tr>\n",
       "    <tr>\n",
       "      <th>24</th>\n",
       "      <td>10.854271</td>\n",
       "      <td>7.540984e+00</td>\n",
       "    </tr>\n",
       "    <tr>\n",
       "      <th>25</th>\n",
       "      <td>11.306533</td>\n",
       "      <td>7.839059e+00</td>\n",
       "    </tr>\n",
       "    <tr>\n",
       "      <th>26</th>\n",
       "      <td>11.758794</td>\n",
       "      <td>8.135180e+00</td>\n",
       "    </tr>\n",
       "    <tr>\n",
       "      <th>27</th>\n",
       "      <td>12.211055</td>\n",
       "      <td>8.429273e+00</td>\n",
       "    </tr>\n",
       "    <tr>\n",
       "      <th>28</th>\n",
       "      <td>12.663317</td>\n",
       "      <td>8.721265e+00</td>\n",
       "    </tr>\n",
       "    <tr>\n",
       "      <th>29</th>\n",
       "      <td>13.115578</td>\n",
       "      <td>9.011084e+00</td>\n",
       "    </tr>\n",
       "    <tr>\n",
       "      <th>...</th>\n",
       "      <td>...</td>\n",
       "      <td>...</td>\n",
       "    </tr>\n",
       "    <tr>\n",
       "      <th>170</th>\n",
       "      <td>76.884422</td>\n",
       "      <td>9.011084e+00</td>\n",
       "    </tr>\n",
       "    <tr>\n",
       "      <th>171</th>\n",
       "      <td>77.336683</td>\n",
       "      <td>8.721265e+00</td>\n",
       "    </tr>\n",
       "    <tr>\n",
       "      <th>172</th>\n",
       "      <td>77.788945</td>\n",
       "      <td>8.429273e+00</td>\n",
       "    </tr>\n",
       "    <tr>\n",
       "      <th>173</th>\n",
       "      <td>78.241206</td>\n",
       "      <td>8.135180e+00</td>\n",
       "    </tr>\n",
       "    <tr>\n",
       "      <th>174</th>\n",
       "      <td>78.693467</td>\n",
       "      <td>7.839059e+00</td>\n",
       "    </tr>\n",
       "    <tr>\n",
       "      <th>175</th>\n",
       "      <td>79.145729</td>\n",
       "      <td>7.540984e+00</td>\n",
       "    </tr>\n",
       "    <tr>\n",
       "      <th>176</th>\n",
       "      <td>79.597990</td>\n",
       "      <td>7.241031e+00</td>\n",
       "    </tr>\n",
       "    <tr>\n",
       "      <th>177</th>\n",
       "      <td>80.050251</td>\n",
       "      <td>6.939272e+00</td>\n",
       "    </tr>\n",
       "    <tr>\n",
       "      <th>178</th>\n",
       "      <td>80.502513</td>\n",
       "      <td>6.635784e+00</td>\n",
       "    </tr>\n",
       "    <tr>\n",
       "      <th>179</th>\n",
       "      <td>80.954774</td>\n",
       "      <td>6.330643e+00</td>\n",
       "    </tr>\n",
       "    <tr>\n",
       "      <th>180</th>\n",
       "      <td>81.407035</td>\n",
       "      <td>6.023924e+00</td>\n",
       "    </tr>\n",
       "    <tr>\n",
       "      <th>181</th>\n",
       "      <td>81.859296</td>\n",
       "      <td>5.715703e+00</td>\n",
       "    </tr>\n",
       "    <tr>\n",
       "      <th>182</th>\n",
       "      <td>82.311558</td>\n",
       "      <td>5.406058e+00</td>\n",
       "    </tr>\n",
       "    <tr>\n",
       "      <th>183</th>\n",
       "      <td>82.763819</td>\n",
       "      <td>5.095065e+00</td>\n",
       "    </tr>\n",
       "    <tr>\n",
       "      <th>184</th>\n",
       "      <td>83.216080</td>\n",
       "      <td>4.782803e+00</td>\n",
       "    </tr>\n",
       "    <tr>\n",
       "      <th>185</th>\n",
       "      <td>83.668342</td>\n",
       "      <td>4.469349e+00</td>\n",
       "    </tr>\n",
       "    <tr>\n",
       "      <th>186</th>\n",
       "      <td>84.120603</td>\n",
       "      <td>4.154781e+00</td>\n",
       "    </tr>\n",
       "    <tr>\n",
       "      <th>187</th>\n",
       "      <td>84.572864</td>\n",
       "      <td>3.839178e+00</td>\n",
       "    </tr>\n",
       "    <tr>\n",
       "      <th>188</th>\n",
       "      <td>85.025126</td>\n",
       "      <td>3.522617e+00</td>\n",
       "    </tr>\n",
       "    <tr>\n",
       "      <th>189</th>\n",
       "      <td>85.477387</td>\n",
       "      <td>3.205179e+00</td>\n",
       "    </tr>\n",
       "    <tr>\n",
       "      <th>190</th>\n",
       "      <td>85.929648</td>\n",
       "      <td>2.886942e+00</td>\n",
       "    </tr>\n",
       "    <tr>\n",
       "      <th>191</th>\n",
       "      <td>86.381910</td>\n",
       "      <td>2.567986e+00</td>\n",
       "    </tr>\n",
       "    <tr>\n",
       "      <th>192</th>\n",
       "      <td>86.834171</td>\n",
       "      <td>2.248389e+00</td>\n",
       "    </tr>\n",
       "    <tr>\n",
       "      <th>193</th>\n",
       "      <td>87.286432</td>\n",
       "      <td>1.928233e+00</td>\n",
       "    </tr>\n",
       "    <tr>\n",
       "      <th>194</th>\n",
       "      <td>87.738693</td>\n",
       "      <td>1.607595e+00</td>\n",
       "    </tr>\n",
       "    <tr>\n",
       "      <th>195</th>\n",
       "      <td>88.190955</td>\n",
       "      <td>1.286557e+00</td>\n",
       "    </tr>\n",
       "    <tr>\n",
       "      <th>196</th>\n",
       "      <td>88.643216</td>\n",
       "      <td>9.651986e-01</td>\n",
       "    </tr>\n",
       "    <tr>\n",
       "      <th>197</th>\n",
       "      <td>89.095477</td>\n",
       "      <td>6.435994e-01</td>\n",
       "    </tr>\n",
       "    <tr>\n",
       "      <th>198</th>\n",
       "      <td>89.547739</td>\n",
       "      <td>3.218398e-01</td>\n",
       "    </tr>\n",
       "    <tr>\n",
       "      <th>199</th>\n",
       "      <td>90.000000</td>\n",
       "      <td>2.496731e-15</td>\n",
       "    </tr>\n",
       "  </tbody>\n",
       "</table>\n",
       "<p>200 rows × 2 columns</p>\n",
       "</div>"
      ],
      "text/plain": [
       "         angle         range\n",
       "0     0.000000  0.000000e+00\n",
       "1     0.452261  3.218398e-01\n",
       "2     0.904523  6.435994e-01\n",
       "3     1.356784  9.651986e-01\n",
       "4     1.809045  1.286557e+00\n",
       "5     2.261307  1.607595e+00\n",
       "6     2.713568  1.928233e+00\n",
       "7     3.165829  2.248389e+00\n",
       "8     3.618090  2.567986e+00\n",
       "9     4.070352  2.886942e+00\n",
       "10    4.522613  3.205179e+00\n",
       "11    4.974874  3.522617e+00\n",
       "12    5.427136  3.839178e+00\n",
       "13    5.879397  4.154781e+00\n",
       "14    6.331658  4.469349e+00\n",
       "15    6.783920  4.782803e+00\n",
       "16    7.236181  5.095065e+00\n",
       "17    7.688442  5.406058e+00\n",
       "18    8.140704  5.715703e+00\n",
       "19    8.592965  6.023924e+00\n",
       "20    9.045226  6.330643e+00\n",
       "21    9.497487  6.635784e+00\n",
       "22    9.949749  6.939272e+00\n",
       "23   10.402010  7.241031e+00\n",
       "24   10.854271  7.540984e+00\n",
       "25   11.306533  7.839059e+00\n",
       "26   11.758794  8.135180e+00\n",
       "27   12.211055  8.429273e+00\n",
       "28   12.663317  8.721265e+00\n",
       "29   13.115578  9.011084e+00\n",
       "..         ...           ...\n",
       "170  76.884422  9.011084e+00\n",
       "171  77.336683  8.721265e+00\n",
       "172  77.788945  8.429273e+00\n",
       "173  78.241206  8.135180e+00\n",
       "174  78.693467  7.839059e+00\n",
       "175  79.145729  7.540984e+00\n",
       "176  79.597990  7.241031e+00\n",
       "177  80.050251  6.939272e+00\n",
       "178  80.502513  6.635784e+00\n",
       "179  80.954774  6.330643e+00\n",
       "180  81.407035  6.023924e+00\n",
       "181  81.859296  5.715703e+00\n",
       "182  82.311558  5.406058e+00\n",
       "183  82.763819  5.095065e+00\n",
       "184  83.216080  4.782803e+00\n",
       "185  83.668342  4.469349e+00\n",
       "186  84.120603  4.154781e+00\n",
       "187  84.572864  3.839178e+00\n",
       "188  85.025126  3.522617e+00\n",
       "189  85.477387  3.205179e+00\n",
       "190  85.929648  2.886942e+00\n",
       "191  86.381910  2.567986e+00\n",
       "192  86.834171  2.248389e+00\n",
       "193  87.286432  1.928233e+00\n",
       "194  87.738693  1.607595e+00\n",
       "195  88.190955  1.286557e+00\n",
       "196  88.643216  9.651986e-01\n",
       "197  89.095477  6.435994e-01\n",
       "198  89.547739  3.218398e-01\n",
       "199  90.000000  2.496731e-15\n",
       "\n",
       "[200 rows x 2 columns]"
      ]
     },
     "execution_count": 15,
     "metadata": {},
     "output_type": "execute_result"
    }
   ],
   "source": [
    "df.columns=['angle','range']\n",
    "df"
   ]
  },
  {
   "cell_type": "code",
   "execution_count": 16,
   "metadata": {},
   "outputs": [
    {
     "data": {
      "image/png": "[encoded data removed]",
      "text/plain": [
       "<matplotlib.figure.Figure at 0x7f359c31a278>"
      ]
     },
     "metadata": {
      "needs_background": "light"
     },
     "output_type": "display_data"
    }
   ],
   "source": [
    "plt.plot(df)\n",
    "plt.show()"
   ]
  },
  {
   "cell_type": "code",
   "execution_count": 17,
   "metadata": {},
   "outputs": [
    {
     "data": {
      "image/png": "[encoded data removed]",
      "text/plain": [
       "<matplotlib.figure.Figure at 0x7f359c263940>"
      ]
     },
     "metadata": {
      "needs_background": "light"
     },
     "output_type": "display_data"
    }
   ],
   "source": [
    "plt.plot(df.range)\n",
    "plt.show()"
   ]
  },
  {
   "cell_type": "code",
   "execution_count": 20,
   "metadata": {},
   "outputs": [
    {
     "data": {
      "image/png": "[encoded data removed]",
      "text/plain": [
       "<matplotlib.figure.Figure at 0x7f359c1570b8>"
      ]
     },
     "metadata": {
      "needs_background": "light"
     },
     "output_type": "display_data"
    }
   ],
   "source": [
    "plt.plot(df.angle,df.range)\n",
    "plt.xlabel(df.angle.name)\n",
    "plt.ylabel(df.range.name)\n",
    "plt.legend()\n",
    "plt.show()"
   ]
  },
  {
   "cell_type": "code",
   "execution_count": 22,
   "metadata": {},
   "outputs": [
    {
     "data": {
      "image/png": "[encoded data removed]",
      "text/plain": [
       "<matplotlib.figure.Figure at 0x7f359c263d30>"
      ]
     },
     "metadata": {
      "needs_background": "light"
     },
     "output_type": "display_data"
    }
   ],
   "source": [
    "plt.scatter(df.angle,df.range)\n",
    "plt.show()"
   ]
  },
  {
   "cell_type": "code",
   "execution_count": 23,
   "metadata": {},
   "outputs": [],
   "source": [
    "df2= pd.DataFrame()"
   ]
  },
  {
   "cell_type": "code",
   "execution_count": 24,
   "metadata": {},
   "outputs": [],
   "source": [
    "df2['angle']=linspace(0,90,200)\n",
    "df2['range']=(100**2)/9.81*sin(2*radians(df2.angle))"
   ]
  },
  {
   "cell_type": "code",
   "execution_count": 25,
   "metadata": {},
   "outputs": [
    {
     "data": {
      "image/png": "[encoded data removed]",
      "text/plain": [
       "<matplotlib.figure.Figure at 0x7f359c2c1da0>"
      ]
     },
     "metadata": {
      "needs_background": "light"
     },
     "output_type": "display_data"
    }
   ],
   "source": [
    "plt.plot(df2.angle,df2.range)\n",
    "plt.show()"
   ]
  }
 ],
 "metadata": {
  "kernelspec": {
   "display_name": "Python 3",
   "language": "python",
   "name": "python3"
  },
  "language_info": {
   "codemirror_mode": {
    "name": "ipython",
    "version": 3
   },
   "file_extension": ".py",
   "mimetype": "text/x-python",
   "name": "python",
   "nbconvert_exporter": "python",
   "pygments_lexer": "ipython3",
   "version": "3.5.2"
  }
 },
 "nbformat": 4,
 "nbformat_minor": 2
}
