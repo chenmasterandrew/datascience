{
 "cells": [
  {
   "cell_type": "code",
   "execution_count": 18,
   "metadata": {},
   "outputs": [],
   "source": [
    "from numpy import radians, sin\n",
    "from numpy import linspace\n",
    "import matplotlib.pyplot as plt\n",
    "import pandas as pd"
   ]
  },
  {
   "cell_type": "code",
   "execution_count": 59,
   "metadata": {},
   "outputs": [
    {
     "name": "stdout",
     "output_type": "stream",
     "text": [
      "    years  value_float value_str\n",
      "0       0       1000.0   $1000.0\n",
      "1       1       1035.0   $1035.0\n",
      "2       2       1071.2   $1071.2\n",
      "3       3       1108.7   $1108.7\n",
      "4       4       1147.5   $1147.5\n",
      "5       5       1187.7   $1187.7\n",
      "6       6       1229.3   $1229.3\n",
      "7       7       1272.3   $1272.3\n",
      "8       8       1316.8   $1316.8\n",
      "9       9       1362.9   $1362.9\n",
      "10     10       1410.6   $1410.6\n",
      "11     11       1460.0   $1460.0\n",
      "12     12       1511.1   $1511.1\n",
      "13     13       1564.0   $1564.0\n",
      "14     14       1618.7   $1618.7\n",
      "15     15       1675.3   $1675.3\n",
      "16     16       1734.0   $1734.0\n",
      "17     17       1794.7   $1794.7\n",
      "18     18       1857.5   $1857.5\n",
      "19     19       1922.5   $1922.5\n",
      "20     20       1989.8   $1989.8\n",
      "21     21       2059.4   $2059.4\n",
      "22     22       2131.5   $2131.5\n",
      "23     23       2206.1   $2206.1\n",
      "24     24       2283.3   $2283.3\n",
      "25     25       2363.2   $2363.2\n",
      "26     26       2446.0   $2446.0\n",
      "27     27       2531.6   $2531.6\n",
      "28     28       2620.2   $2620.2\n",
      "29     29       2711.9   $2711.9\n",
      "30     30       2806.8   $2806.8\n"
     ]
    },
    {
     "data": {
      "image/png": "[encoded data removed]",
      "text/plain": [
       "<matplotlib.figure.Figure at 0x7f815fc5ef28>"
      ]
     },
     "metadata": {
      "needs_background": "light"
     },
     "output_type": "display_data"
    }
   ],
   "source": [
    "df=pd.DataFrame()\n",
    "df['years']=range(0,31)\n",
    "df['value_float']=round(1000*1.035**df.years,1)\n",
    "df['value_str']=['$'+str(round(1000*1.035**y,1)) for y in range(0,31)]\n",
    "print(df)\n",
    "plt.plot(df.years,df.value_float)\n",
    "plt.title('Value ($) as a Function of Years with an Annually Compounded Interest Rate of 1.3%')\n",
    "plt.xlabel('years')\n",
    "plt.ylabel('value ($)')\n",
    "plt.show()"
   ]
  },
  {
   "cell_type": "markdown",
   "metadata": {},
   "source": [
    "# Interest Table in Python with Pandas\n",
    "## Introduction\n",
    "\n",
    "This chart and graph illustrates the relationship between the number of years elapsed and the amount of money in dollars in an account with a principal of $1000 and an annually compounded interest rate of 1.3%.\n",
    "\n",
    "Specifically, this amount is calculated using the fomula for each year: \n",
    "$value=1000*1.035^y$ where y is the number of years elapsed"
   ]
  },
  {
   "cell_type": "code",
   "execution_count": null,
   "metadata": {},
   "outputs": [],
   "source": []
  }
 ],
 "metadata": {
  "kernelspec": {
   "display_name": "Python 3",
   "language": "python",
   "name": "python3"
  },
  "language_info": {
   "codemirror_mode": {
    "name": "ipython",
    "version": 3
   },
   "file_extension": ".py",
   "mimetype": "text/x-python",
   "name": "python",
   "nbconvert_exporter": "python",
   "pygments_lexer": "ipython3",
   "version": "3.5.2"
  }
 },
 "nbformat": 4,
 "nbformat_minor": 2
}
